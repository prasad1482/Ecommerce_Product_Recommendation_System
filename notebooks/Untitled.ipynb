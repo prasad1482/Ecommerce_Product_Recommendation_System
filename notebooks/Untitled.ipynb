{
 "cells": [
  {
   "cell_type": "code",
   "execution_count": 1,
   "id": "d351a08e-5fbd-40f6-b6b6-fbc30dde2669",
   "metadata": {},
   "outputs": [],
   "source": [
    "import pandas as pd"
   ]
  },
  {
   "cell_type": "code",
   "execution_count": 2,
   "id": "e05d2ca3-1acc-424d-9e2b-ada4058310ca",
   "metadata": {},
   "outputs": [],
   "source": [
    "df=pd.read_csv('C:/machihe learning/Projects/Recomendation system/products.csv')"
   ]
  },
  {
   "cell_type": "code",
   "execution_count": 3,
   "id": "c45548f4-4ee0-4eed-aa6a-1ac48ed5224c",
   "metadata": {},
   "outputs": [
    {
     "data": {
      "text/html": [
       "<div>\n",
       "<style scoped>\n",
       "    .dataframe tbody tr th:only-of-type {\n",
       "        vertical-align: middle;\n",
       "    }\n",
       "\n",
       "    .dataframe tbody tr th {\n",
       "        vertical-align: top;\n",
       "    }\n",
       "\n",
       "    .dataframe thead th {\n",
       "        text-align: right;\n",
       "    }\n",
       "</style>\n",
       "<table border=\"1\" class=\"dataframe\">\n",
       "  <thead>\n",
       "    <tr style=\"text-align: right;\">\n",
       "      <th></th>\n",
       "      <th>product_id</th>\n",
       "      <th>product_name</th>\n",
       "      <th>product_category</th>\n",
       "      <th>product_description</th>\n",
       "      <th>price</th>\n",
       "    </tr>\n",
       "  </thead>\n",
       "  <tbody>\n",
       "    <tr>\n",
       "      <th>0</th>\n",
       "      <td>1</td>\n",
       "      <td>Politics Forget</td>\n",
       "      <td>Toys &amp; Games</td>\n",
       "      <td>Difficult trip live own skin that. At use prod...</td>\n",
       "      <td>81.98</td>\n",
       "    </tr>\n",
       "    <tr>\n",
       "      <th>1</th>\n",
       "      <td>2</td>\n",
       "      <td>These Care</td>\n",
       "      <td>Toys &amp; Games</td>\n",
       "      <td>Meeting knowledge center decade notice. Federa...</td>\n",
       "      <td>35.39</td>\n",
       "    </tr>\n",
       "    <tr>\n",
       "      <th>2</th>\n",
       "      <td>3</td>\n",
       "      <td>Career Decide</td>\n",
       "      <td>Beauty</td>\n",
       "      <td>Use week American address artist explain face....</td>\n",
       "      <td>445.48</td>\n",
       "    </tr>\n",
       "  </tbody>\n",
       "</table>\n",
       "</div>"
      ],
      "text/plain": [
       "   product_id     product_name product_category  \\\n",
       "0           1  Politics Forget     Toys & Games   \n",
       "1           2       These Care     Toys & Games   \n",
       "2           3    Career Decide           Beauty   \n",
       "\n",
       "                                 product_description   price  \n",
       "0  Difficult trip live own skin that. At use prod...   81.98  \n",
       "1  Meeting knowledge center decade notice. Federa...   35.39  \n",
       "2  Use week American address artist explain face....  445.48  "
      ]
     },
     "execution_count": 3,
     "metadata": {},
     "output_type": "execute_result"
    }
   ],
   "source": [
    "df.head(3)"
   ]
  },
  {
   "cell_type": "code",
   "execution_count": 4,
   "id": "4ab197fd-9f25-4e97-b78a-c3f2ee44e915",
   "metadata": {},
   "outputs": [
    {
     "name": "stdout",
     "output_type": "stream",
     "text": [
      "Data loaded successfully.\n"
     ]
    }
   ],
   "source": [
    "# Load the datasets\n",
    "try:\n",
    "    interactions_df = pd.read_csv('C:/machihe learning/Projects/Recomendation system/interactions.csv')\n",
    "    products_df = pd.read_csv('C:/machihe learning/Projects/Recomendation system/products.csv')\n",
    "    users_df = pd.read_csv('C:/machihe learning/Projects/Recomendation system/users.csv')\n",
    "    print(\"Data loaded successfully.\")\n",
    "except FileNotFoundError:\n",
    "    print(\"Error: One or more CSV files not found. Make sure they are in the correct directory.\")"
   ]
  },
  {
   "cell_type": "code",
   "execution_count": 5,
   "id": "30af6e36-5bb8-48b0-abea-6f3f148d30e5",
   "metadata": {},
   "outputs": [
    {
     "name": "stdout",
     "output_type": "stream",
     "text": [
      "\n",
      "Interactions DataFrame Info:\n",
      "<class 'pandas.core.frame.DataFrame'>\n",
      "RangeIndex: 100000 entries, 0 to 99999\n",
      "Data columns (total 4 columns):\n",
      " #   Column      Non-Null Count   Dtype \n",
      "---  ------      --------------   ----- \n",
      " 0   user_id     100000 non-null  int64 \n",
      " 1   product_id  100000 non-null  int64 \n",
      " 2   event_type  100000 non-null  object\n",
      " 3   timestamp   100000 non-null  object\n",
      "dtypes: int64(2), object(2)\n",
      "memory usage: 3.1+ MB\n"
     ]
    }
   ],
   "source": [
    "# --- Perform initial inspection ---\n",
    "print(\"\\nInteractions DataFrame Info:\")\n",
    "interactions_df.info()"
   ]
  },
  {
   "cell_type": "code",
   "execution_count": 6,
   "id": "06d9036f-e2b9-4dd2-a2dc-e7966fde906f",
   "metadata": {},
   "outputs": [],
   "source": [
    "# --- Merge the DataFrames ---\n",
    "# We'll merge interactions with products to get product details\n",
    "merged_df = pd.merge(interactions_df, products_df, on='product_id')"
   ]
  },
  {
   "cell_type": "code",
   "execution_count": 7,
   "id": "e4c09d10-03b0-47b1-a539-542ba26d07af",
   "metadata": {},
   "outputs": [],
   "source": [
    "# Now, we'll merge with users to get user details\n",
    "final_df = pd.merge(merged_df, users_df, on='user_id')"
   ]
  },
  {
   "cell_type": "code",
   "execution_count": 8,
   "id": "d2e90625-7238-4f50-bea3-5a56030231ce",
   "metadata": {},
   "outputs": [
    {
     "name": "stdout",
     "output_type": "stream",
     "text": [
      "\n",
      "Final Merged DataFrame Info:\n",
      "<class 'pandas.core.frame.DataFrame'>\n",
      "RangeIndex: 100000 entries, 0 to 99999\n",
      "Data columns (total 9 columns):\n",
      " #   Column               Non-Null Count   Dtype  \n",
      "---  ------               --------------   -----  \n",
      " 0   user_id              100000 non-null  int64  \n",
      " 1   product_id           100000 non-null  int64  \n",
      " 2   event_type           100000 non-null  object \n",
      " 3   timestamp            100000 non-null  object \n",
      " 4   product_name         100000 non-null  object \n",
      " 5   product_category     100000 non-null  object \n",
      " 6   product_description  100000 non-null  object \n",
      " 7   price                100000 non-null  float64\n",
      " 8   signup_date          100000 non-null  object \n",
      "dtypes: float64(1), int64(2), object(6)\n",
      "memory usage: 6.9+ MB\n"
     ]
    }
   ],
   "source": [
    "print(\"\\nFinal Merged DataFrame Info:\")\n",
    "final_df.info()"
   ]
  },
  {
   "cell_type": "code",
   "execution_count": 9,
   "id": "2277c490-b013-4e85-a0b2-4f63c6e39164",
   "metadata": {},
   "outputs": [],
   "source": [
    "# --- Filter for 'purchase' events as our main signal ---\n",
    "purchases_df = final_df[final_df['event_type'] == 'purchase'].copy()"
   ]
  },
  {
   "cell_type": "code",
   "execution_count": 10,
   "id": "a49d3ed8-9bb1-496d-b4f6-bda6af816c5f",
   "metadata": {},
   "outputs": [
    {
     "name": "stdout",
     "output_type": "stream",
     "text": [
      "\n",
      "Purchases DataFrame Info:\n",
      "<class 'pandas.core.frame.DataFrame'>\n",
      "Index: 9863 entries, 20 to 99983\n",
      "Data columns (total 9 columns):\n",
      " #   Column               Non-Null Count  Dtype  \n",
      "---  ------               --------------  -----  \n",
      " 0   user_id              9863 non-null   int64  \n",
      " 1   product_id           9863 non-null   int64  \n",
      " 2   event_type           9863 non-null   object \n",
      " 3   timestamp            9863 non-null   object \n",
      " 4   product_name         9863 non-null   object \n",
      " 5   product_category     9863 non-null   object \n",
      " 6   product_description  9863 non-null   object \n",
      " 7   price                9863 non-null   float64\n",
      " 8   signup_date          9863 non-null   object \n",
      "dtypes: float64(1), int64(2), object(6)\n",
      "memory usage: 770.5+ KB\n",
      "    user_id  product_id event_type            timestamp  \\\n",
      "20      952        3899   purchase  2024-05-04 12:42:07   \n",
      "36       75         158   purchase  2024-02-14 11:40:39   \n",
      "41      929        3799   purchase  2024-02-05 06:54:03   \n",
      "47       48        2919   purchase  2025-06-30 14:57:13   \n",
      "52      595        2025   purchase  2025-07-05 01:53:34   \n",
      "\n",
      "             product_name product_category  \\\n",
      "20            Reason Much           Sports   \n",
      "36           Campaign The   Home & Kitchen   \n",
      "41         Identify Field           Beauty   \n",
      "47        Ground Campaign     Toys & Games   \n",
      "52  Forward Environmental            Books   \n",
      "\n",
      "                                  product_description   price signup_date  \n",
      "20  History instead seek bad including. Material i...  438.70  2023-04-21  \n",
      "36  Different material political value crime bette...  271.53  2020-09-24  \n",
      "41  Ok growth mention ready bad. Pay necessary cul...  411.61  2023-06-27  \n",
      "47  Others interview threat we upon.\\nSuccessful w...  284.92  2021-03-23  \n",
      "52  Project near share ten economic prevent. Deal ...  307.78  2021-12-27  \n"
     ]
    }
   ],
   "source": [
    "print(\"\\nPurchases DataFrame Info:\")\n",
    "purchases_df.info()\n",
    "print(purchases_df.head())"
   ]
  },
  {
   "cell_type": "code",
   "execution_count": 11,
   "id": "a0c11580-e28b-446c-98d8-1b0ee5ab15eb",
   "metadata": {},
   "outputs": [],
   "source": [
    "import os\n",
    "\n",
    "os.makedirs('data/processed', exist_ok=True)\n",
    "purchases_df.to_csv('data/processed/purchases_data.csv', index=False)"
   ]
  },
  {
   "cell_type": "code",
   "execution_count": 12,
   "id": "a43f0d22",
   "metadata": {},
   "outputs": [
    {
     "data": {
      "text/html": [
       "<div>\n",
       "<style scoped>\n",
       "    .dataframe tbody tr th:only-of-type {\n",
       "        vertical-align: middle;\n",
       "    }\n",
       "\n",
       "    .dataframe tbody tr th {\n",
       "        vertical-align: top;\n",
       "    }\n",
       "\n",
       "    .dataframe thead th {\n",
       "        text-align: right;\n",
       "    }\n",
       "</style>\n",
       "<table border=\"1\" class=\"dataframe\">\n",
       "  <thead>\n",
       "    <tr style=\"text-align: right;\">\n",
       "      <th></th>\n",
       "      <th>user_id</th>\n",
       "      <th>product_id</th>\n",
       "      <th>event_type</th>\n",
       "      <th>timestamp</th>\n",
       "      <th>product_name</th>\n",
       "      <th>product_category</th>\n",
       "      <th>product_description</th>\n",
       "      <th>price</th>\n",
       "      <th>signup_date</th>\n",
       "    </tr>\n",
       "  </thead>\n",
       "  <tbody>\n",
       "    <tr>\n",
       "      <th>20</th>\n",
       "      <td>952</td>\n",
       "      <td>3899</td>\n",
       "      <td>purchase</td>\n",
       "      <td>2024-05-04 12:42:07</td>\n",
       "      <td>Reason Much</td>\n",
       "      <td>Sports</td>\n",
       "      <td>History instead seek bad including. Material i...</td>\n",
       "      <td>438.70</td>\n",
       "      <td>2023-04-21</td>\n",
       "    </tr>\n",
       "    <tr>\n",
       "      <th>36</th>\n",
       "      <td>75</td>\n",
       "      <td>158</td>\n",
       "      <td>purchase</td>\n",
       "      <td>2024-02-14 11:40:39</td>\n",
       "      <td>Campaign The</td>\n",
       "      <td>Home &amp; Kitchen</td>\n",
       "      <td>Different material political value crime bette...</td>\n",
       "      <td>271.53</td>\n",
       "      <td>2020-09-24</td>\n",
       "    </tr>\n",
       "    <tr>\n",
       "      <th>41</th>\n",
       "      <td>929</td>\n",
       "      <td>3799</td>\n",
       "      <td>purchase</td>\n",
       "      <td>2024-02-05 06:54:03</td>\n",
       "      <td>Identify Field</td>\n",
       "      <td>Beauty</td>\n",
       "      <td>Ok growth mention ready bad. Pay necessary cul...</td>\n",
       "      <td>411.61</td>\n",
       "      <td>2023-06-27</td>\n",
       "    </tr>\n",
       "  </tbody>\n",
       "</table>\n",
       "</div>"
      ],
      "text/plain": [
       "    user_id  product_id event_type            timestamp    product_name  \\\n",
       "20      952        3899   purchase  2024-05-04 12:42:07     Reason Much   \n",
       "36       75         158   purchase  2024-02-14 11:40:39    Campaign The   \n",
       "41      929        3799   purchase  2024-02-05 06:54:03  Identify Field   \n",
       "\n",
       "   product_category                                product_description  \\\n",
       "20           Sports  History instead seek bad including. Material i...   \n",
       "36   Home & Kitchen  Different material political value crime bette...   \n",
       "41           Beauty  Ok growth mention ready bad. Pay necessary cul...   \n",
       "\n",
       "     price signup_date  \n",
       "20  438.70  2023-04-21  \n",
       "36  271.53  2020-09-24  \n",
       "41  411.61  2023-06-27  "
      ]
     },
     "execution_count": 12,
     "metadata": {},
     "output_type": "execute_result"
    }
   ],
   "source": [
    "purchases_df.head(3)"
   ]
  },
  {
   "cell_type": "markdown",
   "id": "c7576da6-c546-4270-ae2e-f22bf237da36",
   "metadata": {},
   "source": [
    "# Build the model"
   ]
  },
  {
   "cell_type": "code",
   "execution_count": 13,
   "id": "9a2b8282-d3f0-4512-bcf4-ddc7d08aec46",
   "metadata": {},
   "outputs": [
    {
     "name": "stdout",
     "output_type": "stream",
     "text": [
      "Requirement already satisfied: scikit-surprise in c:\\machihe learning\\projects\\recomendation system\\recom39\\lib\\site-packages (1.1.4)Note: you may need to restart the kernel to use updated packages.\n",
      "\n",
      "Requirement already satisfied: joblib>=1.2.0 in c:\\machihe learning\\projects\\recomendation system\\recom39\\lib\\site-packages (from scikit-surprise) (1.5.2)\n",
      "Requirement already satisfied: numpy>=1.19.5 in c:\\machihe learning\\projects\\recomendation system\\recom39\\lib\\site-packages (from scikit-surprise) (1.26.4)\n",
      "Requirement already satisfied: scipy>=1.6.0 in c:\\machihe learning\\projects\\recomendation system\\recom39\\lib\\site-packages (from scikit-surprise) (1.13.1)\n"
     ]
    },
    {
     "name": "stderr",
     "output_type": "stream",
     "text": [
      "WARNING: You are using pip version 20.2.3; however, version 25.2 is available.\n",
      "You should consider upgrading via the 'c:\\machihe learning\\Projects\\Recomendation system\\recom39\\Scripts\\python.exe -m pip install --upgrade pip' command.\n"
     ]
    }
   ],
   "source": [
    "pip install scikit-surprise"
   ]
  },
  {
   "cell_type": "code",
   "execution_count": 14,
   "id": "c861f7ee-84b3-42a9-b253-f7fa3494ef2f",
   "metadata": {},
   "outputs": [],
   "source": [
    "import pandas as pd\n",
    "from surprise import Dataset, Reader, SVD\n",
    "from surprise.model_selection import train_test_split\n",
    "from surprise import accuracy"
   ]
  },
  {
   "cell_type": "code",
   "execution_count": 15,
   "id": "3efaf55c-f548-43b9-aaab-bea34c896885",
   "metadata": {},
   "outputs": [],
   "source": [
    "# Load the processed data\n",
    "purchases_df = pd.read_csv('data/processed/purchases_data.csv')"
   ]
  },
  {
   "cell_type": "code",
   "execution_count": 16,
   "id": "ba9b5afe",
   "metadata": {},
   "outputs": [],
   "source": [
    "# We can just assign a value of 1 since a purchase is a positive signal.\n",
    "purchases_df['rating'] = 1\n",
    "\n",
    "reader = Reader(rating_scale=(1, 1)) # We use (1,1) since all our ratings are 1"
   ]
  },
  {
   "cell_type": "code",
   "execution_count": 17,
   "id": "62af4df3",
   "metadata": {},
   "outputs": [],
   "source": [
    "# Load the DataFrame into the Surprise Dataset format\n",
    "data = Dataset.load_from_df(purchases_df[['user_id', 'product_id', 'rating']], reader)"
   ]
  },
  {
   "cell_type": "markdown",
   "id": "fea9040b",
   "metadata": {},
   "source": [
    "# Train the model"
   ]
  },
  {
   "cell_type": "code",
   "execution_count": 19,
   "id": "57c4b8af",
   "metadata": {},
   "outputs": [
    {
     "name": "stdout",
     "output_type": "stream",
     "text": [
      "Model training complete.\n"
     ]
    }
   ],
   "source": [
    "trainset = data.build_full_trainset()\n",
    "model = SVD()\n",
    "model.fit(trainset)\n",
    "\n",
    "print(\"Model training complete.\")"
   ]
  },
  {
   "cell_type": "code",
   "execution_count": 20,
   "id": "4467d79e",
   "metadata": {},
   "outputs": [],
   "source": [
    "# --- 3. Make a prediction for a specific user ---"
   ]
  },
  {
   "cell_type": "code",
   "execution_count": 21,
   "id": "ab1c35fa",
   "metadata": {},
   "outputs": [
    {
     "name": "stdout",
     "output_type": "stream",
     "text": [
      "\n",
      "Predicted rating for user 952 on product 1: 1\n"
     ]
    }
   ],
   "source": [
    "# Let's pick a random user to make a prediction for.\n",
    "user_id_to_predict = purchases_df['user_id'].iloc[0] # Get the first user from the DataFrame\n",
    "product_id_to_predict = products_df[~products_df['product_id'].isin(\n",
    "    purchases_df[purchases_df['user_id'] == user_id_to_predict]['product_id']\n",
    ")]['product_id'].iloc[0]\n",
    "\n",
    "# Predict the rating the user would give to the product\n",
    "prediction = model.predict(user_id_to_predict, product_id_to_predict)\n",
    "\n",
    "print(f\"\\nPredicted rating for user {user_id_to_predict} on product {product_id_to_predict}: {prediction.est}\")"
   ]
  },
  {
   "cell_type": "code",
   "execution_count": 22,
   "id": "5efb08f4",
   "metadata": {},
   "outputs": [
    {
     "name": "stdout",
     "output_type": "stream",
     "text": [
      "\n",
      "Top 10 recommended product IDs for user 952:\n",
      "[1, 2, 3, 4, 5, 6, 7, 8, 9, 10]\n"
     ]
    }
   ],
   "source": [
    "# --- 4. Get Top N recommendations for a user ---\n",
    "# This is a more practical application.\n",
    "def get_top_n_recommendations(model, user_id, all_products, k=10):\n",
    "    # Get products the user has NOT purchased\n",
    "    user_purchased_items = purchases_df[purchases_df['user_id'] == user_id]['product_id']\n",
    "    unseen_products = [product for product in all_products if product not in user_purchased_items.values]\n",
    "\n",
    "    # Predict ratings for all unseen products\n",
    "    predictions = [model.predict(user_id, product_id) for product_id in unseen_products]\n",
    "\n",
    "    # Sort the predictions by estimated rating\n",
    "    predictions.sort(key=lambda x: x.est, reverse=True)\n",
    "\n",
    "    # Get the top k products\n",
    "    top_k_products = predictions[:k]\n",
    "    \n",
    "    return [pred.iid for pred in top_k_products]\n",
    "\n",
    "# Get all unique product IDs\n",
    "all_products = products_df['product_id'].unique()\n",
    "\n",
    "top_recommendations = get_top_n_recommendations(model, user_id_to_predict, all_products)\n",
    "print(f\"\\nTop 10 recommended product IDs for user {user_id_to_predict}:\")\n",
    "print(top_recommendations)"
   ]
  },
  {
   "cell_type": "markdown",
   "id": "e7ff9af7",
   "metadata": {},
   "source": [
    "# Evaluating"
   ]
  },
  {
   "cell_type": "code",
   "execution_count": 23,
   "id": "0371d518",
   "metadata": {},
   "outputs": [],
   "source": [
    "# Split the data into training and testing sets\n",
    "trainset, testset = train_test_split(data, test_size=0.2, random_state=42)"
   ]
  },
  {
   "cell_type": "code",
   "execution_count": 24,
   "id": "1b60fbcc",
   "metadata": {},
   "outputs": [
    {
     "data": {
      "text/plain": [
       "<surprise.prediction_algorithms.matrix_factorization.SVD at 0x205c9bb64c0>"
      ]
     },
     "execution_count": 24,
     "metadata": {},
     "output_type": "execute_result"
    }
   ],
   "source": [
    "# --- Train the model on the training set ---\n",
    "model = SVD()\n",
    "model.fit(trainset)"
   ]
  },
  {
   "cell_type": "code",
   "execution_count": 25,
   "id": "ccb8b0d0",
   "metadata": {},
   "outputs": [],
   "source": [
    "# --- Make predictions on the testing set ---\n",
    "predictions = model.test(testset)"
   ]
  },
  {
   "cell_type": "code",
   "execution_count": 26,
   "id": "13955bee",
   "metadata": {},
   "outputs": [
    {
     "name": "stdout",
     "output_type": "stream",
     "text": [
      "RMSE: 0.0000\n",
      "The model's RMSE on the test set is: 0.0\n"
     ]
    }
   ],
   "source": [
    "rmse = accuracy.rmse(predictions)\n",
    "print(f\"The model's RMSE on the test set is: {rmse}\")"
   ]
  },
  {
   "cell_type": "code",
   "execution_count": 27,
   "id": "15026d84",
   "metadata": {},
   "outputs": [],
   "source": [
    "from collections import defaultdict\n",
    "\n",
    "def get_top_n(predictions, n=10):\n",
    "    \"\"\"Return the top-N recommendation for each user from a set of predictions.\"\"\"\n",
    "    top_n = defaultdict(list)\n",
    "    for uid, iid, true_r, est, _ in predictions:\n",
    "        top_n[uid].append((iid, est))\n",
    "\n",
    "    for uid, user_ratings in top_n.items():\n",
    "        user_ratings.sort(key=lambda x: x[1], reverse=True)\n",
    "        top_n[uid] = user_ratings[:n]\n",
    "    return top_n\n",
    "\n",
    "top_n = get_top_n(predictions, n=10)"
   ]
  },
  {
   "cell_type": "code",
   "execution_count": null,
   "id": "4f220c08",
   "metadata": {},
   "outputs": [],
   "source": []
  }
 ],
 "metadata": {
  "kernelspec": {
   "display_name": "recom39 (3.9.0)",
   "language": "python",
   "name": "python3"
  },
  "language_info": {
   "codemirror_mode": {
    "name": "ipython",
    "version": 3
   },
   "file_extension": ".py",
   "mimetype": "text/x-python",
   "name": "python",
   "nbconvert_exporter": "python",
   "pygments_lexer": "ipython3",
   "version": "3.9.0"
  }
 },
 "nbformat": 4,
 "nbformat_minor": 5
}
